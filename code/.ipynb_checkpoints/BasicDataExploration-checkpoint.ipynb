{
 "cells": [
  {
   "cell_type": "code",
   "execution_count": 12,
   "id": "3c4c89c5-40d9-4b4a-8bc6-4b3301345b20",
   "metadata": {},
   "outputs": [],
   "source": [
    "# importing pandas library\n",
    "import pandas as pd\n",
    "\n",
    "# storing the data path into a variable for easier reading and access\n",
    "melbourne_data_path = \"../melb_data.csv\"\n",
    "\n",
    "# we can read the data by using read_csv method/function of pd library\n",
    "# calling it will return a DataFrame object that has many useful methods\n",
    "melbourne_data = pd.read_csv(melbourne_data_path)\n",
    "\n",
    "# one of them is to describe our data\n",
    "# y = melbourne_data.Price\n",
    "# print(melbourne_data.columns[-1])\n",
    "\n",
    "melbourne_data.describe()\n",
    "\n",
    "# features = [\"Rooms\", \"Distance\", \"Bathroom\", \"Landsize\", \"Longitude\", \"Lattitude\"]\n",
    "\n",
    "# X = melbourne_data[features]\n",
    "\n",
    "# X.describe()"
   ]
  },
  {
   "cell_type": "code",
   "execution_count": null,
   "id": "f2d4588b-0cbe-47b3-b14b-480d1074bb6e",
   "metadata": {},
   "outputs": [],
   "source": []
  }
 ],
 "metadata": {
  "kernelspec": {
   "display_name": "Python 3 (ipykernel)",
   "language": "python",
   "name": "python3"
  },
  "language_info": {
   "codemirror_mode": {
    "name": "ipython",
    "version": 3
   },
   "file_extension": ".py",
   "mimetype": "text/x-python",
   "name": "python",
   "nbconvert_exporter": "python",
   "pygments_lexer": "ipython3",
   "version": "3.11.8"
  }
 },
 "nbformat": 4,
 "nbformat_minor": 5
}
